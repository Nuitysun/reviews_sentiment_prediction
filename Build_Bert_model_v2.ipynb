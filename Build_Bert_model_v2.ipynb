{
 "cells": [
  {
   "cell_type": "markdown",
   "metadata": {},
   "source": [
    "# Predicting sentiment of smartphone reviews from Ukrainian eCommerce marketplace"
   ]
  },
  {
   "cell_type": "markdown",
   "metadata": {},
   "source": [
    "# Build BERT model v2: oversample negative class to remove class imbalance in target variable"
   ]
  },
  {
   "cell_type": "markdown",
   "metadata": {},
   "source": [
    "## Read clean_data and preprocess data"
   ]
  },
  {
   "cell_type": "code",
   "execution_count": 40,
   "metadata": {},
   "outputs": [],
   "source": [
    "#Import necessary libraries\n",
    "from datetime import datetime\n",
    "import glob\n",
    "import pandas as pd\n",
    "import numpy as np\n",
    "import matplotlib.pyplot as plt\n",
    "import seaborn as sns \n",
    "import dateparser\n",
    "from datetime import timedelta\n",
    "from datetime import date\n",
    "import ktrain\n",
    "from ktrain import text\n",
    "import advertools as adv\n",
    "from langdetect import detect\n",
    "import tensorflow as tf\n",
    "from sklearn.model_selection import train_test_split\n",
    "from sklearn.metrics import accuracy_score\n",
    "from sklearn.metrics import confusion_matrix\n",
    "from sklearn.metrics import roc_auc_score\n",
    "\n",
    "%config IPCompleter.greedy=True\n",
    "\n",
    "#Remove limitations for displaying of tables in pandas\n",
    "pd.set_option('display.max_rows', None)\n",
    "pd.set_option('display.max_colwidth', -1)"
   ]
  },
  {
   "cell_type": "code",
   "execution_count": 41,
   "metadata": {},
   "outputs": [
    {
     "name": "stdout",
     "output_type": "stream",
     "text": [
      "                                                                                                 comment_link  \\\n",
      "0  https://rozetka.com.ua/ua/samsung_galaxy_s21_phantom_black_sm_g998bzkgsek/p272562736/comments/#id=49190491   \n",
      "1  https://rozetka.com.ua/ua/samsung_galaxy_s21_phantom_black_sm_g998bzkgsek/p272562736/comments/#id=49299159   \n",
      "2  https://rozetka.com.ua/ua/samsung_galaxy_s21_phantom_black_sm_g998bzkgsek/p272562736/comments/#id=49228123   \n",
      "3  https://rozetka.com.ua/ua/samsung_galaxy_s21_phantom_black_sm_g998bzkgsek/p272562736/comments/#id=49212385   \n",
      "4  https://rozetka.com.ua/ua/samsung_galaxy_s21_phantom_black_sm_g998bzkgsek/p272562736/comments/#id=49285480   \n",
      "\n",
      "                                                                                                                 product_title  \\\n",
      "0   Мобільний телефон Samsung Galaxy S21 Ultra 12/256 GB Phantom Black (SM-G998BZKGSEK) + Сертифiкат на 4000 грн у подарунок!    \n",
      "1   Мобільний телефон Samsung Galaxy S21 Ultra 12/256 GB Phantom Black (SM-G998BZKGSEK) + Сертифiкат на 4000 грн у подарунок!    \n",
      "2   Мобільний телефон Samsung Galaxy S21 Ultra 12/256 GB Phantom Black (SM-G998BZKGSEK) + Сертифiкат на 4000 грн у подарунок!    \n",
      "3   Мобільний телефон Samsung Galaxy S21 Ultra 12/256 GB Phantom Black (SM-G998BZKGSEK) + Сертифiкат на 4000 грн у подарунок!    \n",
      "4   Мобільний телефон Samsung Galaxy S21 Ultra 12/256 GB Phantom Black (SM-G998BZKGSEK) + Сертифiкат на 4000 грн у подарунок!    \n",
      "\n",
      "   product_price  review_id review_date  \\\n",
      "0  39999.0        49190491   2021-02-04   \n",
      "1  39999.0        49299159   2021-02-14   \n",
      "2  39999.0        49228123   2021-02-08   \n",
      "3  39999.0        49212385   2021-02-06   \n",
      "4  39999.0        49285480   2021-02-12   \n",
      "\n",
      "                                                                                                                                                                                                                                                                                                                                                                                                                                                                                                                                                                                                                                                                                                                                                                                                                                                                                                                                                                                                                                                                                             review_text  \\\n",
      "0  Датчик адаптивной яркости работает не корректно в темноте дисплей светит на 90 процентов. Когда тресешь телефон раздается звук как будто внутри что то отвалилось, до этого s9 plus таких проблем не было, да Самсунг уже не тот))                                                                                                                                                                                                                                                                                                                                                                                                                                                                                                                                                                                                                                                                                                                                                                                                                                                                      \n",
      "1  Я не буду расписывать плюсы телефона - о них можно почитать в обзорах. Поэтому напишу о том, почему лично у меня с телефоном пока не сложились отношения. Отпечаток пальца работает плохо. То срабатывает без проблем, то с 5й попытки не желает. Камера – неплохо, но не очень нравится постобработка - она придает любой фотографии неестественные, перенасыщенные цвета. После активного часа игры в Асфальт 9 телефон перегревается и игра вылетает. Поэтому в чем прикол нового эксиноса я не поняла.Телефон слишком длинный. Ок, я могу прочесть на одну строчку больше текста, но за счет этого телефон габаритный, пальцем не достать до центра экрана, а ряд приложений не поддерживают такую длину. Сам девайс в руках довольно скользкий, поэтому придется покупать чехол. Кстати, похоже, что при создании чехлов устроили соревнование - кто придумает максимально уродливый и неудобный чехол. В результате все идеи номинантов были реализованы. Так что в целом, удовольствия от пользования телефоном у меня нет.                                                                      \n",
      "2  Не опубликован мой отзыв.Значит телефон г                                                                                                                                                                                                                                                                                                                                                                                                                                                                                                                                                                                                                                                                                                                                                                                                                                                                                                                                                                                                                                                               \n",
      "3  За эти деньги телефон должен быть не просто телефоном, но на деле ничего кроме камеры не получить.Камера хороша, корпус глянец и держать без чехла очень тяжело, хуже было только с пиксель 4.Размер телефона явно слишком велик. Ни о какой женской ручке и речи быть не может, спасает только режим уменьшения экрана для одной руки.Кроме эффекта \"вау я потратил на это 1500 баксов\" телефон не вызывает особо ощущений.Работает по началу как и все китайцы - быстро. Экран яркий, но не сказал бы что это особо заметно, хоть и имеет 1500 Нит яркость.Как игрушка на пару недель, а дальше неудобный Лопатник.Разве что наушники бадс про порадовали звучанием и шумодавом.Перезагрузил перед сном его, а на утро он как грелка горячий и где-то 30% аккумулятора ушло. Не знаю что это было.Спасибо что в комплекте хоть телефон есть. Зарядки нет, кабель тайп-с на тайп-с. Вот зачем надо такой вариант? Если все ещё пользуются тайп на юсб.Просто выкинутый на ветер кабель.Бестрая зарядка qc3.0 даёт где-то 3-3.5ампера зарядки. Зарядка где-то часа 2 при этом.Доволен? Ну так себе...   \n",
      "4  Очень нравиться samsung тем что оставили изогнутый экран. Пожалуйста учтите этот отзыв)                                                                                                                                                                                                                                                                                                                                                                                                                                                                                                                                                                                                                                                                                                                                                                                                                                                                                                                                                                                                                 \n",
      "\n",
      "   review_rating  thumbs_up  thumbs_down  \\\n",
      "0  2.0            3          2             \n",
      "1  3.0            3          0             \n",
      "2  1.0            5          7             \n",
      "3  3.0            2          0             \n",
      "4  5.0            0          1             \n",
      "\n",
      "                                                                                                                    product_advatages  \\\n",
      "0  от других флагманских телефонов нет                                                                                                  \n",
      "1  Камера, батарея                                                                                                                      \n",
      "2  NaN                                                                                                                                  \n",
      "3  Камера Обратная зарядка устройств Понты для самого себя  Аккумулятор (держит 2 дня без игр)  \"Подарочные\" наушники бадс про хороши   \n",
      "4  NaN                                                                                                                                  \n",
      "\n",
      "                                                                                                                                                product_disadvantages  \\\n",
      "0  дисплей, при тряске шум                                                                                                                                              \n",
      "1  Сканер отпечатка, эргономичность, аксессуары                                                                                                                         \n",
      "2  NaN                                                                                                                                                                  \n",
      "3  - Размер- Корпус из супер скользкого материала- толстый как я- Доктилоскоп под экраном не очень- Огромная цена. - Передняя камера для разблокировки по лицу ужасна   \n",
      "4  NaN                                                                                                                                                                  \n",
      "\n",
      "                                                                                                                                                                                                                                                                                                                                                                                                                                                                                                                                                                                                                                                                                                                                                                                                                                                                                                                                                                                                                                                                                                                                                                                                                                                                                                                                                                                                                                full_text  \\\n",
      "0  Датчик адаптивной яркости работает не корректно в темноте дисплей светит на 90 процентов. Когда тресешь телефон раздается звук как будто внутри что то отвалилось, до этого s9 plus таких проблем не было, да Самсунг уже не тот)) Преймущества: от других флагманских телефонов нет. Недостатки: дисплей, при тряске шум                                                                                                                                                                                                                                                                                                                                                                                                                                                                                                                                                                                                                                                                                                                                                                                                                                                                                                                                                                                                                                                                                                                \n",
      "1  Я не буду расписывать плюсы телефона - о них можно почитать в обзорах. Поэтому напишу о том, почему лично у меня с телефоном пока не сложились отношения. Отпечаток пальца работает плохо. То срабатывает без проблем, то с 5й попытки не желает. Камера – неплохо, но не очень нравится постобработка - она придает любой фотографии неестественные, перенасыщенные цвета. После активного часа игры в Асфальт 9 телефон перегревается и игра вылетает. Поэтому в чем прикол нового эксиноса я не поняла.Телефон слишком длинный. Ок, я могу прочесть на одну строчку больше текста, но за счет этого телефон габаритный, пальцем не достать до центра экрана, а ряд приложений не поддерживают такую длину. Сам девайс в руках довольно скользкий, поэтому придется покупать чехол. Кстати, похоже, что при создании чехлов устроили соревнование - кто придумает максимально уродливый и неудобный чехол. В результате все идеи номинантов были реализованы. Так что в целом, удовольствия от пользования телефоном у меня нет. Преймущества: Камера, батарея. Недостатки: Сканер отпечатка, эргономичность, аксессуары                                                                                                                                                                                                                                                                                                               \n",
      "2  Не опубликован мой отзыв.Значит телефон г Преймущества: None. Недостатки: None                                                                                                                                                                                                                                                                                                                                                                                                                                                                                                                                                                                                                                                                                                                                                                                                                                                                                                                                                                                                                                                                                                                                                                                                                                                                                                                                                           \n",
      "3  За эти деньги телефон должен быть не просто телефоном, но на деле ничего кроме камеры не получить.Камера хороша, корпус глянец и держать без чехла очень тяжело, хуже было только с пиксель 4.Размер телефона явно слишком велик. Ни о какой женской ручке и речи быть не может, спасает только режим уменьшения экрана для одной руки.Кроме эффекта \"вау я потратил на это 1500 баксов\" телефон не вызывает особо ощущений.Работает по началу как и все китайцы - быстро. Экран яркий, но не сказал бы что это особо заметно, хоть и имеет 1500 Нит яркость.Как игрушка на пару недель, а дальше неудобный Лопатник.Разве что наушники бадс про порадовали звучанием и шумодавом.Перезагрузил перед сном его, а на утро он как грелка горячий и где-то 30% аккумулятора ушло. Не знаю что это было.Спасибо что в комплекте хоть телефон есть. Зарядки нет, кабель тайп-с на тайп-с. Вот зачем надо такой вариант? Если все ещё пользуются тайп на юсб.Просто выкинутый на ветер кабель.Бестрая зарядка qc3.0 даёт где-то 3-3.5ампера зарядки. Зарядка где-то часа 2 при этом.Доволен? Ну так себе... Преймущества: Камера Обратная зарядка устройств Понты для самого себя  Аккумулятор (держит 2 дня без игр)  \"Подарочные\" наушники бадс про хороши. Недостатки: - Размер- Корпус из супер скользкого материала- толстый как я- Доктилоскоп под экраном не очень- Огромная цена. - Передняя камера для разблокировки по лицу ужасна   \n",
      "4  Очень нравиться samsung тем что оставили изогнутый экран. Пожалуйста учтите этот отзыв) Преймущества: None. Недостатки: None                                                                                                                                                                                                                                                                                                                                                                                                                                                                                                                                                                                                                                                                                                                                                                                                                                                                                                                                                                                                                                                                                                                                                                                                                                                                                                             \n",
      "\n",
      "   review_sentiment  \n",
      "0  0                 \n",
      "1  0                 \n",
      "2  0                 \n",
      "3  0                 \n",
      "4  1                 \n"
     ]
    }
   ],
   "source": [
    "data_clean = pd.read_csv('./reviews_data/data_clean.csv')\n",
    "print(data_clean.head())"
   ]
  },
  {
   "cell_type": "code",
   "execution_count": 42,
   "metadata": {},
   "outputs": [
    {
     "data": {
      "text/plain": [
       "2925"
      ]
     },
     "execution_count": 42,
     "metadata": {},
     "output_type": "execute_result"
    }
   ],
   "source": [
    "pos_features = data_clean[data_clean['review_sentiment']==1][['full_text', 'review_sentiment']]\n",
    "neg_features = data_clean[data_clean['review_sentiment']==0][['full_text', 'review_sentiment']]\n",
    "neg_features = neg_features.sample(len(pos_features), replace=True)\n",
    "len(neg_features)"
   ]
  },
  {
   "cell_type": "code",
   "execution_count": 43,
   "metadata": {},
   "outputs": [],
   "source": [
    "resampled_data = data_clean[data_clean['review_sentiment']==1][['full_text', 'review_sentiment']].append(neg_features)"
   ]
  },
  {
   "cell_type": "code",
   "execution_count": 44,
   "metadata": {},
   "outputs": [],
   "source": [
    "#Encode target variable (format required for the modeling)\n",
    "target = pd.get_dummies(resampled_data.review_sentiment)\n",
    "resampled_data['0'] = target.iloc[:, 0]\n",
    "resampled_data['1'] = target.iloc[:, 1]"
   ]
  },
  {
   "cell_type": "code",
   "execution_count": 45,
   "metadata": {},
   "outputs": [
    {
     "name": "stdout",
     "output_type": "stream",
     "text": [
      "<class 'pandas.core.frame.DataFrame'>\n",
      "Int64Index: 5850 entries, 4 to 1387\n",
      "Data columns (total 4 columns):\n",
      " #   Column            Non-Null Count  Dtype \n",
      "---  ------            --------------  ----- \n",
      " 0   full_text         5850 non-null   object\n",
      " 1   review_sentiment  5850 non-null   int64 \n",
      " 2   0                 5850 non-null   uint8 \n",
      " 3   1                 5850 non-null   uint8 \n",
      "dtypes: int64(1), object(1), uint8(2)\n",
      "memory usage: 148.5+ KB\n"
     ]
    }
   ],
   "source": [
    "resampled_data.info()"
   ]
  },
  {
   "cell_type": "code",
   "execution_count": 46,
   "metadata": {},
   "outputs": [],
   "source": [
    "### Preprocessing: train/test split and preprocessing pipeline with Bert mode"
   ]
  },
  {
   "cell_type": "markdown",
   "metadata": {},
   "source": [
    "For training the model we will use the column full_text which contains all text from reviews (review_text, product_advatages, product_disadvantages). "
   ]
  },
  {
   "cell_type": "code",
   "execution_count": 47,
   "metadata": {},
   "outputs": [],
   "source": [
    "#Split dataset into training and test. Test dataframe can be used later to check model performance on the unseen data.\n",
    "#Add stratify parameter to ensure the same proportions of examples in each class as observed in the original dataset.\n",
    "df_train, df_test = train_test_split(resampled_data, test_size=0.2, stratify=resampled_data.review_sentiment)"
   ]
  },
  {
   "cell_type": "code",
   "execution_count": 48,
   "metadata": {},
   "outputs": [
    {
     "data": {
      "text/html": [
       "<div>\n",
       "<style scoped>\n",
       "    .dataframe tbody tr th:only-of-type {\n",
       "        vertical-align: middle;\n",
       "    }\n",
       "\n",
       "    .dataframe tbody tr th {\n",
       "        vertical-align: top;\n",
       "    }\n",
       "\n",
       "    .dataframe thead th {\n",
       "        text-align: right;\n",
       "    }\n",
       "</style>\n",
       "<table border=\"1\" class=\"dataframe\">\n",
       "  <thead>\n",
       "    <tr style=\"text-align: right;\">\n",
       "      <th></th>\n",
       "      <th>full_text</th>\n",
       "      <th>0</th>\n",
       "      <th>1</th>\n",
       "    </tr>\n",
       "    <tr>\n",
       "      <th>review_sentiment</th>\n",
       "      <th></th>\n",
       "      <th></th>\n",
       "      <th></th>\n",
       "    </tr>\n",
       "  </thead>\n",
       "  <tbody>\n",
       "    <tr>\n",
       "      <th>0</th>\n",
       "      <td>0.5</td>\n",
       "      <td>0.5</td>\n",
       "      <td>0.5</td>\n",
       "    </tr>\n",
       "    <tr>\n",
       "      <th>1</th>\n",
       "      <td>0.5</td>\n",
       "      <td>0.5</td>\n",
       "      <td>0.5</td>\n",
       "    </tr>\n",
       "  </tbody>\n",
       "</table>\n",
       "</div>"
      ],
      "text/plain": [
       "                  full_text    0    1\n",
       "review_sentiment                     \n",
       "0                 0.5        0.5  0.5\n",
       "1                 0.5        0.5  0.5"
      ]
     },
     "metadata": {},
     "output_type": "display_data"
    },
    {
     "data": {
      "text/html": [
       "<div>\n",
       "<style scoped>\n",
       "    .dataframe tbody tr th:only-of-type {\n",
       "        vertical-align: middle;\n",
       "    }\n",
       "\n",
       "    .dataframe tbody tr th {\n",
       "        vertical-align: top;\n",
       "    }\n",
       "\n",
       "    .dataframe thead th {\n",
       "        text-align: right;\n",
       "    }\n",
       "</style>\n",
       "<table border=\"1\" class=\"dataframe\">\n",
       "  <thead>\n",
       "    <tr style=\"text-align: right;\">\n",
       "      <th></th>\n",
       "      <th>full_text</th>\n",
       "      <th>0</th>\n",
       "      <th>1</th>\n",
       "    </tr>\n",
       "    <tr>\n",
       "      <th>review_sentiment</th>\n",
       "      <th></th>\n",
       "      <th></th>\n",
       "      <th></th>\n",
       "    </tr>\n",
       "  </thead>\n",
       "  <tbody>\n",
       "    <tr>\n",
       "      <th>0</th>\n",
       "      <td>0.5</td>\n",
       "      <td>0.5</td>\n",
       "      <td>0.5</td>\n",
       "    </tr>\n",
       "    <tr>\n",
       "      <th>1</th>\n",
       "      <td>0.5</td>\n",
       "      <td>0.5</td>\n",
       "      <td>0.5</td>\n",
       "    </tr>\n",
       "  </tbody>\n",
       "</table>\n",
       "</div>"
      ],
      "text/plain": [
       "                  full_text    0    1\n",
       "review_sentiment                     \n",
       "0                 0.5        0.5  0.5\n",
       "1                 0.5        0.5  0.5"
      ]
     },
     "metadata": {},
     "output_type": "display_data"
    }
   ],
   "source": [
    "#Check proportions of examples in each class for training and test dataset.\n",
    "display(round(df_test.groupby('review_sentiment').count()/df_test.shape[0], 2))\n",
    "display(round(df_train.groupby('review_sentiment').count()/df_train.shape[0], 2))"
   ]
  },
  {
   "cell_type": "code",
   "execution_count": 49,
   "metadata": {},
   "outputs": [
    {
     "name": "stdout",
     "output_type": "stream",
     "text": [
      "preprocessing train...\n",
      "language: ru\n"
     ]
    },
    {
     "data": {
      "text/html": [
       "done."
      ],
      "text/plain": [
       "<IPython.core.display.HTML object>"
      ]
     },
     "metadata": {},
     "output_type": "display_data"
    },
    {
     "name": "stdout",
     "output_type": "stream",
     "text": [
      "Is Multi-Label? False\n",
      "preprocessing test...\n",
      "language: ru\n"
     ]
    },
    {
     "data": {
      "text/html": [
       "done."
      ],
      "text/plain": [
       "<IPython.core.display.HTML object>"
      ]
     },
     "metadata": {},
     "output_type": "display_data"
    }
   ],
   "source": [
    "#Data preprocessing with bert mode\n",
    "(x_train, y_train), (x_test, y_test), preproc = text.texts_from_df(df_train, \n",
    "                                                                   'full_text', # name of column containing review text\n",
    "                                                                   label_columns=['0', '1'],\n",
    "                                                                   maxlen=200, \n",
    "                                                                   max_features=100000,\n",
    "                                                                   preprocess_mode='bert',\n",
    "                                                                   val_pct=0.1)"
   ]
  },
  {
   "cell_type": "markdown",
   "metadata": {},
   "source": [
    "## Building Bert model with ktrain"
   ]
  },
  {
   "cell_type": "code",
   "execution_count": 50,
   "metadata": {},
   "outputs": [
    {
     "name": "stdout",
     "output_type": "stream",
     "text": [
      "Is Multi-Label? False\n",
      "maxlen is 200\n",
      "done.\n"
     ]
    }
   ],
   "source": [
    "#Initializing pre-trained Bert model\n",
    "model = text.text_classifier(name='bert',\n",
    "                             train_data=(x_train, y_train),\n",
    "                             preproc=preproc)"
   ]
  },
  {
   "cell_type": "code",
   "execution_count": 52,
   "metadata": {},
   "outputs": [],
   "source": [
    "#Wrap the model and data in a Learner object\n",
    "learner = ktrain.get_learner(model=model,\n",
    "                             train_data=(x_train, y_train),\n",
    "                             val_data=(x_test, y_test),\n",
    "                             batch_size=6)"
   ]
  },
  {
   "cell_type": "code",
   "execution_count": 53,
   "metadata": {},
   "outputs": [
    {
     "name": "stderr",
     "output_type": "stream",
     "text": [
      "C:\\Users\\Anna\\anaconda3\\lib\\site-packages\\ktrain\\core.py:357: UserWarning: recompiling model to use AdamWeightDecay as opimizer with weight decay of 0.01\n",
      "  warnings.warn('recompiling model to use AdamWeightDecay as opimizer with weight decay of %s' % (wd) )\n"
     ]
    }
   ],
   "source": [
    "#Set learner to use default weight decay rate \n",
    "learner.get_weight_decay()\n",
    "learner.set_weight_decay()"
   ]
  },
  {
   "cell_type": "markdown",
   "metadata": {},
   "source": [
    "**Weight decay** \n",
    "Weight decay is a form of regularization, we will use it in order to reduce overfitting caused by target classes imbalance.\n",
    "By default, ktrain uses no weight decay, but for our model we will set default weight decay rate of 0.01 implemented using the AdamWeightDecay optimizer."
   ]
  },
  {
   "cell_type": "markdown",
   "metadata": {},
   "source": [
    "Next two sections are commented as training takes a lot of time and computationally expensive, trained model was saved and can be downloaded by link: https://files.fm/u/2msz9eexf – file `sentiment_prediction_v2.data-00000-of-00001`."
   ]
  },
  {
   "cell_type": "code",
   "execution_count": 79,
   "metadata": {},
   "outputs": [
    {
     "name": "stdout",
     "output_type": "stream",
     "text": [
      "\n",
      "\n",
      "begin training using onecycle policy with max lr of 1e-05...\n",
      "Epoch 1/3\n",
      "702/702 [==============================] - 6274s 9s/step - loss: 0.5982 - accuracy: 0.6641 - val_loss: 0.3351 - val_accuracy: 0.8568\n",
      "Epoch 2/3\n",
      "702/702 [==============================] - 20732s 30s/step - loss: 0.2969 - accuracy: 0.8811 - val_loss: 0.1728 - val_accuracy: 0.9316\n",
      "Epoch 3/3\n",
      "702/702 [==============================] - 5021s 7s/step - loss: 0.1090 - accuracy: 0.9639 - val_loss: 0.1255 - val_accuracy: 0.9551\n"
     ]
    },
    {
     "data": {
      "text/plain": [
       "<tensorflow.python.keras.callbacks.History at 0x18d006f8ac0>"
      ]
     },
     "execution_count": 79,
     "metadata": {},
     "output_type": "execute_result"
    }
   ],
   "source": [
    "#Create TensorBoard calback to use it later to analyse model performance\n",
    "#tbCallBack = tf.keras.callbacks.TensorBoard(log_dir='/tmp/Tensor_Board', histogram_freq=0, write_graph=True, write_images=True)\n",
    "\n",
    "#Training the model \n",
    "#learner.fit_onecycle(lr=1e-5,\n",
    "#                     epochs=3,\n",
    "#                    callbacks=[tbCallBack])"
   ]
  },
  {
   "cell_type": "code",
   "execution_count": 107,
   "metadata": {},
   "outputs": [],
   "source": [
    "#Save trained model\n",
    "#learner.model.save_weights(\"sentiment_prediction_v2\")"
   ]
  }
 ],
 "metadata": {
  "kernelspec": {
   "display_name": "Python 3",
   "language": "python",
   "name": "python3"
  },
  "language_info": {
   "codemirror_mode": {
    "name": "ipython",
    "version": 3
   },
   "file_extension": ".py",
   "mimetype": "text/x-python",
   "name": "python",
   "nbconvert_exporter": "python",
   "pygments_lexer": "ipython3",
   "version": "3.8.3"
  }
 },
 "nbformat": 4,
 "nbformat_minor": 4
}
